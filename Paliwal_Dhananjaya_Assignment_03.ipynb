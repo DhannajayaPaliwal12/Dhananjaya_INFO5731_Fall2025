{
  "cells": [
    {
      "cell_type": "markdown",
      "metadata": {
        "id": "view-in-github",
        "colab_type": "text"
      },
      "source": [
        "<a href=\"https://colab.research.google.com/github/DhannajayaPaliwal12/Dhananjaya_INFO5731_Fall2025/blob/main/Paliwal_Dhananjaya_Assignment_03.ipynb\" target=\"_parent\"><img src=\"https://colab.research.google.com/assets/colab-badge.svg\" alt=\"Open In Colab\"/></a>"
      ]
    },
    {
      "cell_type": "markdown",
      "metadata": {
        "id": "Ryk8D1Q4Wsrp"
      },
      "source": [
        "\n",
        "\n",
        "# **INFO5731 Assignment 3**\n",
        "\n",
        "In this assignment, we will delve into various aspects of natural language processing (NLP) and text analysis. The tasks are designed to deepen your understanding of key NLP concepts and techniques, as well as to provide hands-on experience with practical applications.\n",
        "\n",
        "Through these tasks, you'll gain practical experience in NLP techniques such as N-gram analysis, TF-IDF, word embedding model creation, and sentiment analysis dataset creation.\n",
        "\n",
        "**Expectations**:\n",
        "*   Use the provided .*ipynb* document to write your code & respond to the questions. Avoid generating a new file.\n",
        "*   Write complete answers and run all the cells before submission.\n",
        "*   Make sure the submission is \"clean\"; *i.e.*, no unnecessary code cells.\n",
        "*   Once finished, allow shared rights from top right corner (*see Canvas for details*).\n",
        "\n",
        "\n",
        "**Total points**: 100\n",
        "\n",
        "**Deadline**: See Canvas\n",
        "\n",
        "**Late Submission will have a penalty of 10% reduction for each day after the deadline.**\n"
      ]
    },
    {
      "cell_type": "markdown",
      "metadata": {
        "id": "JkzR8cFAyGik"
      },
      "source": [
        "## Question 1 (30 points)\n",
        "\n",
        "**Understand N-gram**\n",
        "\n",
        "Write a python program to conduct N-gram analysis based on the dataset in your assignment two. You need to write codes from **scratch instead of using any pre-existing libraries** to do so:\n",
        "\n",
        "(1) Count the frequency of all the N-grams (N=3) and (N=2).\n",
        "\n",
        "(2) Calculate the probabilities for all the bigrams in the dataset by using the formula  count(w2 w1) / count(w2). For example, count(really like) / count(really) = 1 / 3 = 0.33.\n",
        "\n",
        "(3) Extract all the noun phrases and calculate the relative\n",
        "probabilities of each review in terms of other reviews (abstracts, or tweets) by using the formula  frequency (noun phrase) / max frequency (noun phrase) on the whole dataset.\n",
        "\n",
        "Print out the result in a table with column name the all the noun phrases and row name as all the 100 reviews (abstracts, or tweets)."
      ]
    },
    {
      "cell_type": "code",
      "execution_count": 1,
      "metadata": {
        "id": "9v8IikDpqrxn",
        "colab": {
          "base_uri": "https://localhost:8080/"
        },
        "outputId": "6eed9051-9913-4840-fe65-6b64867476a6"
      },
      "outputs": [
        {
          "output_type": "stream",
          "name": "stdout",
          "text": [
            "Top bigrams: [(('of', 'the'), 1888), (('in', 'the'), 904), (('the', 'movie'), 755), (('and', 'the'), 748), (('the', 'film'), 745), (('this', 'movie'), 604), (('to', 'the'), 587), (('is', 'a'), 542), (('it', 'is'), 434), (('on', 'the'), 429)]\n",
            "Top trigrams: [(('one', 'of', 'the'), 277), (('the', 'atomic', 'bomb'), 244), (('robert', 'downey', 'jr'), 198), (('j', 'robert', 'oppenheimer'), 163), (('of', 'the', 'atomic'), 151), (('of', 'the', 'film'), 150), (('this', 'movie', 'is'), 142), (('the', 'movie', 'is'), 127), (('the', 'manhattan', 'project'), 125), (('of', 'the', 'movie'), 123)]\n",
            "\n",
            "Sample bigram probabilities:\n",
            "P(have | you'll) = 0.059\n",
            "P(to | have) = 0.070\n",
            "P(have | to) = 0.012\n",
            "P(your | have) = 0.005\n",
            "P(wits | your) = 0.005\n",
            "P(about | wits) = 1.000\n",
            "P(you | about) = 0.002\n",
            "P(and | you) = 0.008\n",
            "P(your | and) = 0.000\n",
            "P(brain | your) = 0.041\n",
            "\n",
            "Noun Phrase Relative Probability Table:\n",
            "          hiroshima  an epic achievement  imax cameras  projects  \\\n",
            "Review_1   0.000000             0.000000      0.000000  0.000000   \n",
            "Review_2   0.000000             0.000000      0.000000  0.000000   \n",
            "Review_3   0.000000             0.000000      0.000000  0.000000   \n",
            "Review_4   0.000000             0.000000      0.000000  0.000000   \n",
            "Review_5   0.250000             0.000000      0.000000  0.000000   \n",
            "\n",
            "          cillain murphy  a propulsive score  two men  his lover  the style  \\\n",
            "Review_1        0.000000            0.000000 0.000000   0.000000   0.000000   \n",
            "Review_2        0.000000            0.000000 0.000000   0.000000   0.000000   \n",
            "Review_3        0.000000            0.000000 0.000000   0.000000   0.000000   \n",
            "Review_4        0.000000            0.000000 0.000000   0.000000   0.000000   \n",
            "Review_5        0.000000            0.000000 0.000000   0.000000   0.000000   \n",
            "\n",
            "          the 'father  ...      .it  certainly the most overrated film  \\\n",
            "Review_1     0.000000  ... 0.000000                           0.000000   \n",
            "Review_2     0.000000  ... 0.000000                           0.000000   \n",
            "Review_3     0.000000  ... 0.000000                           0.000000   \n",
            "Review_4     0.000000  ... 0.000000                           0.000000   \n",
            "Review_5     0.000000  ... 0.000000                           0.000000   \n",
            "\n",
            "          great companion  what a masterpiece  gut-wrenching moments  \\\n",
            "Review_1         0.000000            0.000000               0.000000   \n",
            "Review_2         0.000000            0.000000               0.000000   \n",
            "Review_3         0.000000            0.000000               0.000000   \n",
            "Review_4         0.000000            0.000000               0.000000   \n",
            "Review_5         0.000000            0.000000               0.000000   \n",
            "\n",
            "          a post-trinity speech scene  this movis  the nearest cinema  \\\n",
            "Review_1                     0.000000    0.000000            0.000000   \n",
            "Review_2                     0.000000    0.000000            0.000000   \n",
            "Review_3                     0.000000    0.000000            0.000000   \n",
            "Review_4                     0.000000    0.000000            0.000000   \n",
            "Review_5                     0.000000    0.000000            0.000000   \n",
            "\n",
            "           a book  roland joffé  \n",
            "Review_1 0.000000      0.000000  \n",
            "Review_2 0.000000      0.000000  \n",
            "Review_3 0.000000      0.000000  \n",
            "Review_4 0.000000      0.000000  \n",
            "Review_5 0.000000      0.000000  \n",
            "\n",
            "[5 rows x 20258 columns]\n"
          ]
        }
      ],
      "source": [
        "import pandas as pd\n",
        "import nltk\n",
        "from nltk import ngrams, word_tokenize, FreqDist\n",
        "import spacy\n",
        "from collections import Counter, defaultdict\n",
        "import re\n",
        "import spacy\n",
        "nlp = spacy.load(\"en_core_web_sm\")\n",
        "pd.set_option(\"display.float_format\", \"{:.6f}\".format)\n",
        "\n",
        "\n",
        "imdb_data = pd.read_csv('imdb_reviews.csv')\n",
        "\n",
        "def tokenize(text):\n",
        "    # Lowercase, remove punctuation except internal apostrophes\n",
        "    text = text.lower()\n",
        "    text = re.sub(r\"[^a-z0-9\\s']\", ' ', text)\n",
        "    tokens = [tok for tok in text.split() if tok.strip() != \"\"]\n",
        "    return tokens\n",
        "\n",
        "# N-gram frequency counts for N=2, N=3\n",
        "def get_ngram_freqs(texts, n):\n",
        "    counts = defaultdict(int)\n",
        "    for text in texts:\n",
        "        tokens = tokenize(text)\n",
        "        for i in range(len(tokens) - n + 1):\n",
        "            ngram = tuple(tokens[i:i+n])\n",
        "            counts[ngram] += 1\n",
        "    return counts\n",
        "\n",
        "bigram_freq = get_ngram_freqs(imdb_data['text'], 2)\n",
        "trigram_freq = get_ngram_freqs(imdb_data['text'], 3)\n",
        "\n",
        "print(\"Top bigrams:\", sorted(bigram_freq.items(), key=lambda x: x[1], reverse=True)[:10])\n",
        "print(\"Top trigrams:\", sorted(trigram_freq.items(), key=lambda x: x[1], reverse=True)[:10])\n",
        "\n",
        "# Bigram probabilities P(w2 | w1) = count(w1,w2)/count(w1)\n",
        "def unigram_counts(texts):\n",
        "    uni = defaultdict(int)\n",
        "    for text in texts:\n",
        "        tokens = tokenize(text)\n",
        "        for t in tokens:\n",
        "            uni[t] += 1\n",
        "    return uni\n",
        "\n",
        "unigrams = unigram_counts(imdb_data['text'])\n",
        "bigram_probs = {}\n",
        "for (w1, w2), c in bigram_freq.items():\n",
        "    if unigrams[w1] > 0:\n",
        "        bigram_probs[(w1, w2)] = c / unigrams[w1]\n",
        "\n",
        "print(\"\\nSample bigram probabilities:\")\n",
        "for k, v in list(bigram_probs.items())[:10]:\n",
        "    print(f\"P({k[1]} | {k[0]}) = {v:.3f}\")\n",
        "\n",
        "# Extract noun phrases & compute relative probabilities\n",
        "\n",
        "review_np_counts = []\n",
        "all_np = set()\n",
        "\n",
        "for text in imdb_data['text'].astype(str).tolist():\n",
        "    doc = nlp(text)\n",
        "\n",
        "    nps = [chunk.text.lower().strip() for chunk in doc.noun_chunks]\n",
        "\n",
        "    count = Counter(nps)\n",
        "\n",
        "    review_np_counts.append(count)\n",
        "\n",
        "    all_np.update(count.keys())\n",
        "\n",
        "# Compute max frequency across all reviews\n",
        "max_np_freq = {np: max(c[np] for c in review_np_counts) for np in all_np}\n",
        "\n",
        "# Compute relative probabilities for each review\n",
        "rel_prob_rows = []\n",
        "for count in review_np_counts:\n",
        "    row = {}\n",
        "    for np in all_np:\n",
        "        maxf = max_np_freq[np]\n",
        "        row[np] = (count[np] / maxf) if maxf > 0 else 0\n",
        "    rel_prob_rows.append(row)\n",
        "\n",
        "np_df = pd.DataFrame(rel_prob_rows)\n",
        "np_df.index = [f\"Review_{i+1}\" for i in range(len(imdb_data))]\n",
        "\n",
        "print(\"\\nNoun Phrase Relative Probability Table:\")\n",
        "print(np_df.head())"
      ]
    },
    {
      "cell_type": "markdown",
      "metadata": {
        "id": "90_NR8c5XGWc"
      },
      "source": [
        "## Question 2 (25 points)\n",
        "\n",
        "**Undersand TF-IDF and Document representation**\n",
        "\n",
        "Starting from the documents (all the reviews, or abstracts, or tweets) collected for assignment two, write a python program:\n",
        "\n",
        "(1) To build the documents-terms weights (tf * idf) matrix.\n",
        "\n",
        "(2) To rank the documents with respect to query (design a query by yourself, for example, \"An Outstanding movie with a haunting performance and best character development\") by using cosine similarity.\n",
        "\n",
        "Note: You need to write codes from scratch instead of using any **pre-existing libraries** to do so."
      ]
    },
    {
      "cell_type": "code",
      "execution_count": 2,
      "metadata": {
        "id": "LjN0iysvo9-n",
        "colab": {
          "base_uri": "https://localhost:8080/"
        },
        "outputId": "ecbae485-6417-4d6a-9a83-0fdced4c4254"
      },
      "outputs": [
        {
          "output_type": "stream",
          "name": "stdout",
          "text": [
            "\n",
            "Top 10 Document Ranking by Cosine Similarity to Query:\n",
            "\n",
            "Rank 1: Similarity = 0.1337\n",
            "Review Text:Movie was released on the 19th in my country. In my opinion, it is the most important film Nolan has ever made. I had goosebumps during THAT part in the middle of the movie and at the end. No viewing experience could have given me that suffocating and colossal feeling than in the cinema. The music score, the cinematography, the acting, everything about it is sublime. I sank in my seat and for a good 5 minutes after it ended, none of the people I watched it with made a move. We just kind of sat there in silence, at a loss for words. See this on the big screens. It's an incredible, haunting piece of art and cinema at its finest. Cillian Murphy, Robert Downey Jr., and Emily Blunt are outstanding in this. The cast was just stellar.\n",
            "\n",
            "Rank 2: Similarity = 0.1332\n",
            "Review Text:Best movie in my lifetime. All aspects were exemplary: the acting, the writing, the cinematography, ... I've never paid much attention to which director is doing what, but Christopher Nolan is one to watch for. Brilliant. Murphy was superb, as were all the supporting actors: Downey Jr., Blunt, Damon. Believable, moving, stunning performances. Top-notch writing and directing allowed these thespians to show the world how talented they can be. \"Character development\" is tricky to do well. If a writer makes a character too unlikeable, the audience (or reader) won't continue to watch. Blunt's character, Kitty Oppenheimer, is a paradigm of character development. Like it or not, \"bad mom\" is a precise weapon used to cut down a woman. It's risky, then, for a writer to introduce us to a female character who is a bad mom, acts eccentrically, and has a drinking problem. Yet by the end of the movie, Blunt has us loving Kitty and cheering her for her strengths and character. Besides the great acting, this movie displayed the best example of writing character development I have ever seen. The cinematography was brilliant. I'll let others describe the details. I went into the theatre thinking the movie was going to be good. This anticipation made me a little worried that I'd be disappointed, because that's what usually happens when you go into a theatre with high expectations. Seeing the all-star cast is another warning sign of disappointment. Contrary to all past experiences, this movie exceeded my high expectations, and I walked out of the cinema mind-blown. I appreciate that the writers and Nolan showed the different ethical arguments, the philosophical debates, the moral quandaries with a deep dive into this sensitive subject. He/they didn't pander to popular political sensitivities, yet made it extremely sensitive in a thought-provoking, honest way. Nolan's integrity shone.\n",
            "\n",
            "Rank 3: Similarity = 0.1316\n",
            "Review Text:Where do I start? From start to finish this film had me completely indulged in it and kept me craving for more. The music, the haunting and deep face of Murphy, the smooth like butter dialogues and the intensities of every shot makes this film Nolan's best ever. Also can't not mention R. D. Junior who was his best in this movie and gave an extraordinary performance. Cillian is brilliant. No more to say about that. Emily Blunt was also her best and showed just the right amount of emotions at the right moments. So did Pugh. Can't forget Gary Oldman's as per usual great performance. He definitely stole the scene with that one. The film was 3 hours long but felt like 1,5 to me! If that doesn't say enough about how great it was, don't know what will! Hats off to you, Mr Nolan!\n",
            "\n",
            "Rank 4: Similarity = 0.1241\n",
            "Review Text:Christopher Nolan's \"Oppenheimer\" is an extraordinary cinematic achievement that delves into the complex life of J. Robert Oppenheimer, the renowned physicist often referred to as \"the father of the atomic bomb.\" This haunting and thought-provoking film masterfully captures a pivotal shift in human consciousness over the course of three gripping hours. As a drama that explores the themes of genius, hubris, and the consequences of individual and collective errors, it immerses viewers in the turbulent journey of Oppenheimer, whose research and development of the atomic bombs dropped on Hiroshima and Nagasaki forever changed the world.\n",
            "\n",
            "Rank 5: Similarity = 0.1215\n",
            "Review Text:Oppenheimer is on par with being the biggest, historic event film since Titanic! Christopher Nolan directs a Masterpiece with this booming piece of art! Murphy whom plays Oppenheimer is absolutely exceptional! Well deserved to win the best actor/performance award at the Oscars! And also Robert Downey Jr whom plays Lewis Strauss also deserves an award for best supporting actor! The award ceremony could be awarded to many on the Oppenheimer set! Including Nolan for best director and for best score as well! Even best drama! Because creating, dropping an atom bomb is mighty dramatic! The film deserves to sweep in all awards category! It's an outstanding film! And could very well be the best film so far in this decade!\n",
            "\n",
            "Rank 6: Similarity = 0.1188\n",
            "Review Text:Wow. This film...Is just wow. If there aren't any acting nominations for this film I will be very very surprised. RDJ in my opinion was incredible. Obviously Cillian Murphy was outstanding. Matt Damon wasn't as bad as I thought he would be. I wasn't expecting a lot of the sex scenes tbh. But fair play to Florence Pugh. For me the music in a film matters so much. And I came out of that thinking \"Hans Zimmer must've composed it surely ?\", but no.... Ludwig Goransson !!! Mad. Big up. It was outstanding. The pay off after the Trinity test was immeasurable. I also found the final climax in the third act was well worth the wait, even though the final act did drag a little. The scenes with Einstein were incredible. And Gary Oldman in one scene blew me away !!! I'm watching it again this weekend. I studied this part of history in some detail and to see it on screen was a real treat. This film is a 9/10 for me. Outstanding. PS: Rami Malek 😂😂\n",
            "\n",
            "Rank 7: Similarity = 0.1177\n",
            "Review Text:The direction, as expected from Nolan, is nothing short of breathtaking. The way he weaves together past and present, merging personal struggles with scientific achievements, is nothing less than genius. The visuals are stunning, and the attention to detail in recreating the era is impeccable. And then there's Cillian Murphy, whose performance as J. Robert Oppenheimer is a tour de force. Murphy's dedication to the role is evident in every scene. He immerses himself in the character, bringing Oppenheimer's inner turmoil and brilliance to life with such nuance and authenticity that it's simply mesmerizing to watch. The emotional depth Murphy infuses into Oppenheimer's journey is astounding. From his struggles with the moral implications of his work to the personal sacrifices he makes, every aspect of the character is portrayed with precision and grace. Murphy's performance truly elevates the film to another level. If there's one thing I'm certain about after watching \"Oppenheimer,\" it's that Cillian Murphy deserves an Oscar for his outstanding portrayal of J. Robert Oppenheimer. His performance alone makes this film an unforgettable cinematic experience. In conclusion, \"Oppenheimer\" is a cinematic marvel that leaves a profound impact on the viewer. Christopher Nolan's visionary direction combined with Cillian Murphy's Oscar-worthy performance makes this film an absolute must-watch. It's a masterpiece that will linger in your mind long after the credits roll.\n",
            "\n",
            "Rank 8: Similarity = 0.1171\n",
            "Review Text:As a devoted fan of historical dramas, I can confidently say that \"Oppenheimer\" is an absolute masterpiece! Christopher Nolan has once again delivered an awe-inspiring cinematic experience that leaves the audience spellbound from start to finish. Casting Cillian Murphy as Robert Oppenheimer was a stroke of genius. His portrayal of the conflicted scientist was both nuanced and emotionally charged. He brilliantly captured Oppenheimer's intellect, determination, and moral dilemmas, making the character come alive on the screen. Murphy delivers an Oscar-worthy performance. Also, Robert Downey Jr as Lewis Strauss did an excellent performance. This is by far Downey's best performance, and he also deserves an Oscar nomination. The supporting cast is equally praiseworthy, with outstanding performances from Emily Blunt, Matt Damon, and Florence Pugh. From the first frame, the film immerses its audience in a spellbinding narrative that perfectly balances historical accuracy and captivating storytelling. The attention to detail in depicting the era is unparalleled, transporting viewers back to the 1940s and the intensity of the Manhattan Project. The meticulous recreation of the Los Alamos laboratory and the wartime atmosphere adds an authentic touch, making the viewers feel like eyewitnesses to a defining moment in history. The cinematography deserves special commendation, as it brilliantly captures both the beauty of the New Mexico landscape and the intensity of the laboratory's scientific endeavor. The haunting musical score adds an extra layer of depth, heightening the emotional impact of critical moments throughout the movie. \"Oppenheimer\" stands as a testament to the power of cinema to educate, entertain, and provoke introspection. It expertly delves into the complex interplay of science, politics, and human morality, reminding the profound implications that scientific discoveries can have on the world. Christopher Nolan has once again proven why he is one of the greatest directors of our time. Brilliantly written, impeccably directed, and expertly performed, the film leaves an indelible impression that will stay with viewers long after leaving the theater.\n",
            "\n",
            "Rank 9: Similarity = 0.1166\n",
            "Review Text:Christopher Nolan delivers another cinematic spectacle in the form of \"Oppenheimer.\" It's a very talky, dialogue-driven movie with literally no action, but you feel mesmerized, captivated, and never bored throughout its 180-minute running time. The film is patient but extremely rewarding to watch. The cinematography is gorgeous, the sound design is breathtaking, and the score is beautifully haunting - all in all, showcasing Christopher Nolan's technical mastery once again. The non-linear storytelling may take some getting used to as it centers on different important, seminal moments in Oppenheimer's life, causing jumps in the story. The movie boasts a stacked cast - so many famous actors show up, even if just for a scene, and each of them brings their A-game. However, the movie undeniably belongs to Cillian Murphy. His performance is so outstanding that it's downright unbelievable. I won't be surprised if he dominates the awards season. Cillian Murphy alone is what makes the movie stand out, and his performance alone is worth the price of admission. Robert Downey Jr. And Matt Damon are also seriously good in their roles. In \"Oppenheimer,\" Nolan has once again delivered a confounding, mesmerizing cinematic spectacle.\n",
            "\n",
            "Rank 10: Similarity = 0.1153\n",
            "Review Text:Oppenheimer is a historical biographical drama directed by christopher nolan. Cillian murphy is in tremendous form in this film, completely channelising the demons of an invention so deadly that he becomes the death. Infact, every character in this film does his/her job perfectly. But the film stops short of outstanding due to its stretched screenplay. The aftermath of the war and the committee findings is very convoluted and boring. The last act does pick up uts place but the damage was done. The background score is magnificent, combined with the outstanding first 20 minutes of the film. I hope this was a masterpiece as I wished it to be.\n"
          ]
        }
      ],
      "source": [
        "import math\n",
        "\n",
        "# Tokenize all documents\n",
        "tokenized_docs = [tokenize(doc) for doc in imdb_data['text']]\n",
        "\n",
        "# Build vocabulary\n",
        "vocab = sorted(set(word for doc in tokenized_docs for word in doc))\n",
        "N = len(tokenized_docs)\n",
        "\n",
        "# Compute Term Frequency (TF)\n",
        "tf = []  # list of dicts\n",
        "for doc in tokenized_docs:\n",
        "    counts = Counter(doc)\n",
        "    total_terms = len(doc)\n",
        "    tf.append({term: counts[term] / total_terms for term in vocab})\n",
        "\n",
        "# Compute Document Frequency (DF) and IDF\n",
        "dfreq = defaultdict(int)\n",
        "for term in vocab:\n",
        "    for doc in tokenized_docs:\n",
        "        if term in doc:\n",
        "            dfreq[term] += 1\n",
        "\n",
        "idf = {term: math.log(N / (1 + dfreq[term])) for term in vocab}\n",
        "\n",
        "# Compute TF-IDF matrix\n",
        "tfidf = []\n",
        "for doc_tf in tf:\n",
        "    tfidf.append({term: doc_tf[term] * idf[term] for term in vocab})\n",
        "\n",
        "tfidf_df = pd.DataFrame(tfidf, index=[f\"Doc_{i+1}\" for i in range(N)])\n",
        "\n",
        "# Process a query\n",
        "query = \"An outstanding movie with a haunting performance and best character development\"\n",
        "\n",
        "q_tokens = tokenize(query)\n",
        "q_counts = Counter(q_tokens)\n",
        "q_total = len(q_tokens)\n",
        "\n",
        "# TF and TF-IDF for query\n",
        "q_tf = {term: q_counts[term] / q_total for term in vocab}\n",
        "q_tfidf = {term: q_tf[term] * idf.get(term, 0) for term in vocab}\n",
        "\n",
        "# Cosine Similarity function\n",
        "def cosine_similarity(vec1, vec2):\n",
        "    num = sum(vec1[t] * vec2[t] for t in vocab)\n",
        "    denom1 = math.sqrt(sum(vec1[t] ** 2 for t in vocab))\n",
        "    denom2 = math.sqrt(sum(vec2[t] ** 2 for t in vocab))\n",
        "    if denom1 == 0 or denom2 == 0:\n",
        "        return 0\n",
        "    return num / (denom1 * denom2)\n",
        "\n",
        "# Compute cosine similarities\n",
        "sims = []\n",
        "for i, doc_vec in enumerate(tfidf):\n",
        "    sim = cosine_similarity(doc_vec, q_tfidf)\n",
        "    sims.append((f\"Doc_{i+1}\", sim))\n",
        "\n",
        "# Sort and show\n",
        "ranked = sorted(sims, key=lambda x: x[1], reverse=True)\n",
        "print(\"\\nTop 10 Document Ranking by Cosine Similarity to Query:\")\n",
        "\n",
        "for idx, score in ranked[:10]:\n",
        "    print(f\"\\nRank {ranked.index((idx, score)) + 1}: Similarity = {score:.4f}\")\n",
        "    review_text = str(imdb_data['text'].iloc[int(idx.split('_')[1])-1])\n",
        "    review_text = re.sub(r'\\s+', ' ', review_text).strip()\n",
        "    print(f\"Review Text:{review_text}\")\n"
      ]
    },
    {
      "cell_type": "markdown",
      "metadata": {
        "id": "1F_PZdH9Sh49"
      },
      "source": [
        "## Question 3 (25 points)\n",
        "\n",
        "**Create your own word embedding model**\n",
        "\n",
        "Use the data you collected for assignment 2 to build a word embedding model:\n",
        "\n",
        "(1) Train a 300-dimension word embedding (it can be word2vec, glove, ulmfit or Fine tune bert model).\n",
        "\n",
        "(2) Visualize the embeddings using PCA or t-SNE in 2D. Create a scatter plot of at least 20 words and show how similar words cluster together.\n",
        "\n",
        "(3) Calculate the cosine similarity between a few pairs of words to see if the model captures semantic similarity accurately.\n",
        "\n",
        "Reference: https://machinelearningmastery.com/develop-word-embeddings-python-gensim/\n",
        "\n",
        "Reference: https://jaketae.github.io/study/word2vec/"
      ]
    },
    {
      "cell_type": "code",
      "execution_count": 3,
      "metadata": {
        "id": "eczZgyAoo05Q",
        "colab": {
          "base_uri": "https://localhost:8080/",
          "height": 861
        },
        "outputId": "61179c8d-c998-4390-fc2d-29c9cbcdd089"
      },
      "outputs": [
        {
          "output_type": "stream",
          "name": "stderr",
          "text": [
            "/usr/local/lib/python3.12/dist-packages/huggingface_hub/utils/_auth.py:94: UserWarning: \n",
            "The secret `HF_TOKEN` does not exist in your Colab secrets.\n",
            "To authenticate with the Hugging Face Hub, create a token in your settings tab (https://huggingface.co/settings/tokens), set it as secret in your Google Colab and restart your session.\n",
            "You will be able to reuse this secret in all of your notebooks.\n",
            "Please note that authentication is recommended but still optional to access public models or datasets.\n",
            "  warnings.warn(\n"
          ]
        },
        {
          "output_type": "stream",
          "name": "stdout",
          "text": [
            "Got embeddings for 11457 words\n"
          ]
        },
        {
          "output_type": "display_data",
          "data": {
            "text/plain": [
              "<Figure size 1000x700 with 1 Axes>"
            ],
            "image/png": "[encoded data removed]"
          },
          "metadata": {}
        },
        {
          "output_type": "stream",
          "name": "stdout",
          "text": [
            "\n",
            "Cosine Similarities:\n",
            "      good ~ great     : 0.875\n",
            "     movie ~ film      : 0.911\n",
            "      good ~ bad       : 0.881\n",
            "    boring ~ exciting  : 0.867\n",
            "     actor ~ actress   : 0.967\n"
          ]
        }
      ],
      "source": [
        "# Word Embeddings using BERT (Fine-tuned base model)\n",
        "# !pip install transformers torch --quiet\n",
        "\n",
        "import torch\n",
        "from transformers import AutoTokenizer, AutoModel\n",
        "import numpy as np\n",
        "import matplotlib.pyplot as plt\n",
        "from sklearn.decomposition import PCA\n",
        "from sklearn.metrics.pairwise import cosine_similarity\n",
        "import random\n",
        "\n",
        "# Load pretrained BERT model and tokenizer\n",
        "model_name = \"bert-base-uncased\"\n",
        "tokenizer = AutoTokenizer.from_pretrained(model_name)\n",
        "model = AutoModel.from_pretrained(model_name)\n",
        "\n",
        "# Get BERT embeddings for each target word\n",
        "def get_word_embedding(word):\n",
        "    inputs = tokenizer(word, return_tensors='pt')\n",
        "    with torch.no_grad():\n",
        "        outputs = model(**inputs)\n",
        "    # outputs.last_hidden_state shape: [1, tokens, 768]\n",
        "    # take mean of token embeddings (some words split into subwords)\n",
        "    emb = outputs.last_hidden_state.mean(dim=1).squeeze().numpy()\n",
        "    return emb\n",
        "\n",
        "word_vecs = {w: get_word_embedding(w) for w in vocab}\n",
        "print(\"Got embeddings for\", len(word_vecs), \"words\")\n",
        "\n",
        "# Reduce to 2D for visualization\n",
        "selected_words = random.sample(list(word_vecs.keys()), 25)\n",
        "emb_matrix = np.vstack([word_vecs[w] for w in selected_words])\n",
        "\n",
        "pca = PCA(n_components=2)\n",
        "coords = pca.fit_transform(emb_matrix)\n",
        "\n",
        "plt.figure(figsize=(10,7))\n",
        "plt.scatter(coords[:,0], coords[:,1])\n",
        "for i, w in enumerate(selected_words):\n",
        "    plt.annotate(w, (coords[i,0], coords[i,1]))\n",
        "plt.title(f\"2D PCA Visualization of {25} Random Word Embeddings\")\n",
        "plt.xlabel(\"PC1\")\n",
        "plt.ylabel(\"PC2\")\n",
        "plt.show()\n",
        "\n",
        "# Cosine similarity between word pairs\n",
        "pairs = [\n",
        "    ('good', 'great'),\n",
        "    ('movie', 'film'),\n",
        "    ('good', 'bad'),\n",
        "    ('boring', 'exciting'),\n",
        "    ('actor', 'actress'),\n",
        "]\n",
        "\n",
        "print(\"\\nCosine Similarities:\")\n",
        "for w1, w2 in pairs:\n",
        "    v1, v2 = word_vecs[w1], word_vecs[w2]\n",
        "    sim = cosine_similarity([v1], [v2])[0][0]\n",
        "    print(f\"{w1:>10s} ~ {w2:<10s}: {sim:.3f}\")\n"
      ]
    },
    {
      "cell_type": "markdown",
      "metadata": {
        "id": "DDoVp3aYoU8F"
      },
      "source": [
        "## Question 4 (20 Points)\n",
        "\n",
        "**Create your own training and evaluation dataset for an NLP task.**\n",
        "\n",
        " **You don't need to write program for this question!**\n",
        "\n",
        " For example, if you collected a movie review or a product review data, then you can do the following steps:\n",
        "\n",
        "*   Read each review (abstract or tweet) you collected in detail, and annotate each review with a sentiment (positive, negative, or neutral).\n",
        "\n",
        "*   Save the annotated dataset into a csv file with three columns (first column: document_id, clean_text, sentiment), upload the csv file to GitHub and submit the file link blew.\n",
        "\n",
        "*   This datset will be used for assignment four: sentiment analysis and text classification.\n"
      ]
    },
    {
      "cell_type": "markdown",
      "source": [
        "\n",
        "\n",
        "1.   Which NLP Task you would like perform on your selected dataset\n",
        "(NER, Summarization, Sentiment Analysis, Text classficication)\n",
        "2.  Explain your labeling Schema you have used and mention those labels\n",
        "\n",
        "3.  You can take AI assistance for labeling the data only.\n",
        "\n"
      ],
      "metadata": {
        "id": "U-JtOozpvZ-3"
      }
    },
    {
      "cell_type": "markdown",
      "source": [
        "## Github Link for file with annoted imdb movie reviews :\n",
        "https://github.com/DhannajayaPaliwal12/Dhananjaya_INFO5731_Fall2025/blob/main/imdb_reviews_annotated.csv\n",
        "\n"
      ],
      "metadata": {
        "id": "YAzg8KPrjGik"
      }
    },
    {
      "cell_type": "markdown",
      "source": [
        "\n",
        "\n",
        "**1. Which NLP Task you would like perform on your selected dataset\n",
        "(NER, Summarization, Sentiment Analysis, Text classficication)**\n",
        "\n",
        "**Ans.** The goal of the NLP task will be to automatically classify each movie review into one of three sentiment categories — Positive, Negative, or Neutral — based on the emotional tone and opinion expressed in the text.\n",
        "\n",
        "It is a classic supervised text classification problem that uses labeled data to train a model to predict sentiment for new, unseen reviews.\n",
        "\n",
        "**2.  Explain your labeling Schema you have used and mention those labels**\n",
        "\n",
        "**Ans.** Each review in the IMDB dataset was annotated with a single sentiment label according to the main opinion or tone conveyed in the text. The labeling followed a three-class schema:\n",
        "\n",
        "Label\tDescription:\n",
        "\n",
        "Positive:\tThe review expresses a favorable opinion, praise, or strong satisfaction with the movie.\n",
        "\n",
        "Negative: The review expresses dissatisfaction, criticism, or dislike toward the movie.\n",
        "\n",
        "Neutral:\tThe review is factual, balanced, or contains both positive and negative aspects without a strong emotional stance.\n",
        "\n",
        "\n",
        "\n"
      ],
      "metadata": {
        "id": "eQsP5p38rIkD"
      }
    },
    {
      "cell_type": "markdown",
      "metadata": {
        "id": "q8BFCvWp32cf"
      },
      "source": [
        "# Mandatory Question\n",
        "\n",
        "Provide your thoughts on the assignment by filling this survey link. What did you find challenging, and what aspects did you enjoy? Your opinion on the provided time to complete the assignment."
      ]
    },
    {
      "cell_type": "markdown",
      "source": [
        "Overall, this assignment was an engaging experience. Working through tasks such as word embeddings, TF-IDF and POS tagging a deeper understanding of how these individual concepts connect to form a complete NLP pipeline.\n",
        "\n",
        "**Challenging Part:**\n",
        "The most demanding part for me was handling the data annotation for the sentiment analysis task. Going through hundreds of reviews and assigning accurate labels required patience and careful reading to ensure consistency. Along with this, it was also slightly tricky to decide how to categorize mixed or neutral reviews, as some texts expressed both positive and negative emotions.\n",
        "\n",
        "**Enjoyable Aspects:**\n",
        "I particularly enjoyed visualizing the embeddings (using PCA) and analyzing how similar words clustered together. It was fascinating to see how mathematics and language intersect to reveal meaningful patterns in textual data.\n",
        "\n",
        "**Provided Time:**\n",
        "The given time was generally sufficient for the coding and conceptual parts of the assignment. However, the manual labeling process was quite time-intensive. A bit of extra time for data annotation would make the workflow smoother, especially for those working with larger datasets."
      ],
      "metadata": {
        "id": "nw37GJF7uoqZ"
      }
    }
  ],
  "metadata": {
    "colab": {
      "provenance": [],
      "include_colab_link": true
    },
    "kernelspec": {
      "display_name": "Python 3 (ipykernel)",
      "language": "python",
      "name": "python3"
    },
    "language_info": {
      "codemirror_mode": {
        "name": "ipython",
        "version": 3
      },
      "file_extension": ".py",
      "mimetype": "text/x-python",
      "name": "python",
      "nbconvert_exporter": "python",
      "pygments_lexer": "ipython3",
      "version": "3.9.12"
    }
  },
  "nbformat": 4,
  "nbformat_minor": 0
}